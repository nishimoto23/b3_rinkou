{
 "cells": [
  {
   "cell_type": "markdown",
   "metadata": {
    "id": "Y8At8SE0eUuv"
   },
   "source": [
    "# 実験 II (2023 年度後期) 第 3 回 資料 4\n",
    "\n",
    "2023.10.10 (火) 第 3, 4 限  \n",
    "岡田 真\n"
   ]
  },
  {
   "cell_type": "markdown",
   "metadata": {
    "id": "9iPW7SCveUNK"
   },
   "source": [
    "# アヤメの分類 4 特徴量 3 クラス分類\n"
   ]
  },
  {
   "cell_type": "code",
   "execution_count": 1,
   "metadata": {
    "colab": {
     "base_uri": "https://localhost:8080/"
    },
    "id": "wjzJ-12seGGA",
    "outputId": "d744101d-8df7-4852-8db8-fec75826106a"
   },
   "outputs": [
    {
     "name": "stdout",
     "output_type": "stream",
     "text": [
      "ターゲット\n",
      "[0 0 0 0 0 0 0 0 0 0 0 0 0 0 0 0 0 0 0 0 0 0 0 0 0 0 0 0 0 0 0 0 0 0 0 0 0\n",
      " 0 0 0 0 0 0 0 0 0 0 0 0 0 1 1 1 1 1 1 1 1 1 1 1 1 1 1 1 1 1 1 1 1 1 1 1 1\n",
      " 1 1 1 1 1 1 1 1 1 1 1 1 1 1 1 1 1 1 1 1 1 1 1 1 1 1 2 2 2 2 2 2 2 2 2 2 2\n",
      " 2 2 2 2 2 2 2 2 2 2 2 2 2 2 2 2 2 2 2 2 2 2 2 2 2 2 2 2 2 2 2 2 2 2 2 2 2\n",
      " 2 2]\n",
      "機械学習による予測\n",
      "[0 0 0 0 0 0 0 0 0 0 0 0 0 0 0 0 0 0 0 0 0 0 0 0 0 0 0 0 0 0 0 0 0 0 0 0 0\n",
      " 0 0 0 0 0 0 0 0 0 0 0 0 0 1 1 1 1 1 1 1 1 1 1 1 1 1 1 1 1 1 1 1 1 1 1 1 1\n",
      " 1 1 1 1 1 1 1 1 1 2 1 1 1 1 1 1 1 1 1 1 1 1 1 1 1 1 2 2 2 2 2 2 2 2 2 2 2\n",
      " 2 2 2 2 2 2 2 2 2 2 2 2 2 2 2 2 2 2 2 2 2 2 2 2 2 2 2 2 2 2 2 2 2 2 2 2 2\n",
      " 2 2]\n",
      "正解率\n",
      "99.33333333333333\n"
     ]
    }
   ],
   "source": [
    "# -*- coding: utf-8 -*-\n",
    "from sklearn import datasets, svm\n",
    "\n",
    "# アヤメのデータをロードし、変数irisに格納\n",
    "iris = datasets.load_iris()\n",
    "\n",
    "# 特徴量のセットを変数Xに、ターゲットを変数yに格納\n",
    "X = iris.data\n",
    "y = iris.target\n",
    "\n",
    "# 分類用にサポートベクトルマシンを用意\n",
    "clf = svm.SVC(C=1.0, kernel='linear', decision_function_shape='ovr')\n",
    "# データに最適化\n",
    "clf.fit(X, y)\n",
    "\n",
    "# データを分類器に与え、予測を得る\n",
    "result = clf.predict(X)\n",
    "\n",
    "print('ターゲット')\n",
    "print(y)\n",
    "print('機械学習による予測')\n",
    "print(result)\n",
    "\n",
    "# データ数をtotalに格納\n",
    "total = len(X)\n",
    "# ターゲット（正解）と予測が一致した数をsuccessに格納\n",
    "success = sum(result==y)\n",
    "\n",
    "# 正解率をパーセント表示\n",
    "print('正解率')\n",
    "print(100.0*success/total)\n"
   ]
  },
  {
   "cell_type": "markdown",
   "metadata": {
    "id": "eeGEobz1XVxz"
   },
   "source": [
    "scikit-learn の評価指標を求めるモジュールは以下のようになる．\n",
    "\n",
    "| 種類 | scikit-learn モジュール |\n",
    "| --- | --- |\n",
    "| 正解率 (Accuracy) | metrics.accuracy_score() |\n",
    "| 適合率 (Precision) | metrics.precision_score() |\n",
    "| 再現率 (Recall) | metrics.recall_score() |\n",
    "| F 値 (F-measure) | metrics.f1_score() |\n",
    "\n",
    "その他の指標については scikit-learn のリファレンスページにある．  \n",
    "[scikit-learn 評価指標モジュールリファレンスページ (英語)](https://scikit-learn.org/stable/modules/model_evaluation.html)\n",
    "\n",
    "具体的な使い方は以下のようになる．\n",
    "\n",
    "2 クラス分類のときは特別に指定なしで使える．デフォルト値もこれ (`'binary'`)．  \n",
    "多クラス分類のときは分類結果をどのように平均を取るか指定する必要がある．  \n",
    "あるクラスとそれ以外 (One-VS-Rest) の評価指標 (適合率，再現率，F 値) の値を取って，それを単純にクラス数を使って平均を取る「マクロ平均」か，各分類結果での True Positive と False Positive の値を考慮して平均を取る「マイクロ平均」か，それ以外の特殊な平均かを選ぶ必要がある．\n",
    "\n",
    "例ではマイクロ平均 (`'micro'`) を取る．\n",
    "\n",
    "```python\n",
    "# 使いたい評価指標のモジュールを import する\n",
    "from sklearn.metrics import accuracy_score, precision_score, recall_score, f1_score\n",
    "\n",
    "# 確認用データを作る\n",
    "y_pred = [0, 2, 1, 3]\n",
    "y_true = [0, 1, 2, 3]\n",
    "\n",
    "# 各評価指標の値を得る\n",
    "# 正解，予測結果の順で与える\n",
    "# 多クラス分類の場合に平均 (average) の計算方法の指定が必要な場合はそれも与える\n",
    "acc = accuracy_score(y_true, y_pred)\n",
    "p = precision_score(y_true, y_pred, average='micro')\n",
    "r = recall_score(y_true, y_pred, average='micro')\n",
    "f1 = f1_score(y_true, y_pred, average='micro')\n",
    "\n",
    "# 表示する\n",
    "print(acc, p, r, f1)\n",
    "\n",
    "```"
   ]
  },
  {
   "cell_type": "code",
   "execution_count": 2,
   "metadata": {
    "colab": {
     "base_uri": "https://localhost:8080/"
    },
    "id": "zOGYWMWdXWZP",
    "outputId": "146d17bb-bfd1-4eb4-ff47-344776738bd1"
   },
   "outputs": [
    {
     "name": "stdout",
     "output_type": "stream",
     "text": [
      "0.5 0.5 0.5 0.5\n"
     ]
    }
   ],
   "source": [
    "# 使いたい評価指標のモジュールを import する\n",
    "from sklearn.metrics import accuracy_score, precision_score, recall_score, f1_score\n",
    "\n",
    "# 確認用データを作る\n",
    "y_pred = [0, 2, 1, 3] # 予測結果の例\n",
    "y_true = [0, 1, 2, 3] # 真値の例\n",
    "\n",
    "# 各評価指標の値を得る\n",
    "# 正解，予測結果の順で与える\n",
    "# 多クラス分類の場合に平均 (average) の計算方法の指定が必要な場合はそれも与える\n",
    "acc = accuracy_score(y_true, y_pred)\n",
    "p = precision_score(y_true, y_pred, average='micro')\n",
    "r = recall_score(y_true, y_pred, average='micro')\n",
    "f1 = f1_score(y_true, y_pred, average='micro')\n",
    "\n",
    "# 表示する\n",
    "print(acc, p, r, f1)\n"
   ]
  },
  {
   "cell_type": "markdown",
   "metadata": {
    "id": "m3ThfS9VHimS"
   },
   "source": [
    "## 演習課題 3-3\n",
    "多クラス分類の方法 `'ovr'` と `'ovo'` を切り替えた結果，カーネルを `'linear'` から `'rbf'` を切り替えた結果，パラメータ $\\gamma$ を表す引数 `'gamma'` を `'auto'` から `'1.0'` に変更した結果を確認する．  \n",
    "\n",
    "その際に，評価指標である正解率 (Accuracy)，適合率 (Precision)，再現率 (Recall)，F 値 (F-measure) を表示して，その値で確認する．\n",
    "\n",
    "したがって，\n",
    "('多クラス分類の方法', 'カーネル', 'ガンマ (カーネルが `'rbf'` のとき)) の条件として以下の 6 つの組み合わせができる\n",
    "\n",
    "1. (``ovr``, ``linear``),  \n",
    "2. (``ovo``, ``linear``),\n",
    "3. (``ovr``, ``rbf``, ``auto``),\n",
    "4. (``ovo``, ``rbf``, ``auto``),\n",
    "5. (``ovr``, ``rbf``, ``1.0``),\n",
    "6. (``ovo``, ``rbf``, ``1.0``)  \n",
    "\n",
    "この 6 個の組み合わせについてそれぞれ正解率，適合率，再現率，F 値を求める．\n"
   ]
  },
  {
   "cell_type": "code",
   "execution_count": 16,
   "metadata": {},
   "outputs": [
    {
     "name": "stdout",
     "output_type": "stream",
     "text": [
      "kernel = linear, decision_function_shape=ovr\n",
      "正解率 = 0.9933333333333333, 適合率 = 0.9933333333333333, 再現率 = 0.9933333333333333, F値 = 0.9933333333333333\n",
      "\n",
      "kernel = linear, decision_function_shape=ovo\n",
      "正解率 = 0.9933333333333333, 適合率 = 0.9933333333333333, 再現率 = 0.9933333333333333, F値 = 0.9933333333333333\n",
      "\n",
      "kernel = rbf, gamma = auto, decision_function_shape=ovr\n",
      "正解率 = 0.9866666666666667, 適合率 = 0.9866666666666667, 再現率 = 0.9866666666666667, F値 = 0.9866666666666668\n",
      "\n",
      "kernel = rbf, gamma = auto, decision_function_shape=ovo\n",
      "正解率 = 0.9866666666666667, 適合率 = 0.9866666666666667, 再現率 = 0.9866666666666667, F値 = 0.9866666666666668\n",
      "\n",
      "kernel = rbf, gamma = 1.0, decision_function_shape=ovr\n",
      "正解率 = 0.98, 適合率 = 0.98, 再現率 = 0.98, F値 = 0.98\n",
      "\n",
      "kernel = rbf, gamma = 1.0, decision_function_shape=ovo\n",
      "正解率 = 0.98, 適合率 = 0.98, 再現率 = 0.98, F値 = 0.98\n",
      "\n"
     ]
    }
   ],
   "source": [
    "# -*- coding: utf-8 -*-\n",
    "from sklearn import datasets, svm\n",
    "from sklearn.metrics import accuracy_score, precision_score, recall_score, f1_score\n",
    "\n",
    "def func(meth, kernel):\n",
    "    iris = datasets.load_iris()\n",
    "    X = iris.data\n",
    "    y = iris.target\n",
    "\n",
    "    if kernel == 'linear':\n",
    "        clf = svm.SVC(C=1.0, kernel='linear', decision_function_shape=meth)\n",
    "    else:\n",
    "        clf = svm.SVC(C=1.0, kernel='rbf', gamma=kernel, decision_function_shape=meth)\n",
    "    clf.fit(X, y)\n",
    "\n",
    "    result = clf.predict(X)\n",
    "\n",
    "    total = len(X)\n",
    "    success = sum(result==y)\n",
    "\n",
    "    acc = accuracy_score(y, result)\n",
    "    p = precision_score(y, result, average='micro')\n",
    "    r = recall_score(y, result, average='micro')\n",
    "    f1 = f1_score(y, result, average='micro')\n",
    "\n",
    "    if kernel == 'linear':\n",
    "        format = \"kernel = linear, \"\n",
    "    else:\n",
    "        format = \"kernel = rbf, gamma = {}, \".format(kernel)\n",
    "    format += \"decision_function_shape={}\".format(meth)\n",
    "    print(format)\n",
    "    print(\"正解率 = {}, 適合率 = {}, 再現率 = {}, F値 = {}\".format(acc, p, r, f1))\n",
    "    print()\n",
    "\n",
    "lx = [\"ovr\", \"ovo\"]\n",
    "ly = [\"linear\", \"auto\", 1.0]\n",
    "for y in ly:\n",
    "    for x in lx:\n",
    "        func(x, y)\n"
   ]
  }
 ],
 "metadata": {
  "colab": {
   "provenance": []
  },
  "kernelspec": {
   "display_name": "Python 3 (ipykernel)",
   "language": "python",
   "name": "python3"
  },
  "language_info": {
   "codemirror_mode": {
    "name": "ipython",
    "version": 3
   },
   "file_extension": ".py",
   "mimetype": "text/x-python",
   "name": "python",
   "nbconvert_exporter": "python",
   "pygments_lexer": "ipython3",
   "version": "3.11.0"
  }
 },
 "nbformat": 4,
 "nbformat_minor": 4
}
